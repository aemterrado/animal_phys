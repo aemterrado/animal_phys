{
 "cells": [
  {
   "cell_type": "code",
   "execution_count": 1,
   "metadata": {},
   "outputs": [],
   "source": [
    "import numpy as np\n",
    "import pandas as pd\n",
    "import matplotlib.pyplot as plt"
   ]
  },
  {
   "cell_type": "code",
   "execution_count": 2,
   "metadata": {},
   "outputs": [
    {
     "data": {
      "text/html": [
       "<div>\n",
       "<style scoped>\n",
       "    .dataframe tbody tr th:only-of-type {\n",
       "        vertical-align: middle;\n",
       "    }\n",
       "\n",
       "    .dataframe tbody tr th {\n",
       "        vertical-align: top;\n",
       "    }\n",
       "\n",
       "    .dataframe thead th {\n",
       "        text-align: right;\n",
       "    }\n",
       "</style>\n",
       "<table border=\"1\" class=\"dataframe\">\n",
       "  <thead>\n",
       "    <tr style=\"text-align: right;\">\n",
       "      <th></th>\n",
       "      <th>Time (s)</th>\n",
       "      <th>Page</th>\n",
       "      <th>Transducer Output (mV)</th>\n",
       "    </tr>\n",
       "  </thead>\n",
       "  <tbody>\n",
       "    <tr>\n",
       "      <td>0</td>\n",
       "      <td>0.00000</td>\n",
       "      <td>1</td>\n",
       "      <td>-0.01450</td>\n",
       "    </tr>\n",
       "    <tr>\n",
       "      <td>1</td>\n",
       "      <td>0.00005</td>\n",
       "      <td>1</td>\n",
       "      <td>-0.01400</td>\n",
       "    </tr>\n",
       "    <tr>\n",
       "      <td>2</td>\n",
       "      <td>0.00010</td>\n",
       "      <td>1</td>\n",
       "      <td>-0.01375</td>\n",
       "    </tr>\n",
       "    <tr>\n",
       "      <td>3</td>\n",
       "      <td>0.00015</td>\n",
       "      <td>1</td>\n",
       "      <td>-0.01400</td>\n",
       "    </tr>\n",
       "    <tr>\n",
       "      <td>4</td>\n",
       "      <td>0.00020</td>\n",
       "      <td>1</td>\n",
       "      <td>-0.01425</td>\n",
       "    </tr>\n",
       "  </tbody>\n",
       "</table>\n",
       "</div>"
      ],
      "text/plain": [
       "   Time (s)  Page  Transducer Output (mV)\n",
       "0   0.00000     1                -0.01450\n",
       "1   0.00005     1                -0.01400\n",
       "2   0.00010     1                -0.01375\n",
       "3   0.00015     1                -0.01400\n",
       "4   0.00020     1                -0.01425"
      ]
     },
     "execution_count": 2,
     "metadata": {},
     "output_type": "execute_result"
    }
   ],
   "source": [
    "uterusFake = pd.read_csv('Desktop/Data_Adrienne/Skeletal Muscle Data/Muscle Recruit.txt', sep = '\\t', header = None)\n",
    "uterusFake.drop(columns = 3, axis = 0, inplace = True)\n",
    "uterusFake.columns = ['Time (s)', 'Page', 'Transducer Output (mV)']\n",
    "uterusFake.head()"
   ]
  },
  {
   "cell_type": "code",
   "execution_count": 3,
   "metadata": {},
   "outputs": [],
   "source": [
    "def adjustTime(df):\n",
    "    df['Time (s)'] = df['Time (s)']*1000\n",
    "    df.head()"
   ]
  },
  {
   "cell_type": "code",
   "execution_count": 4,
   "metadata": {},
   "outputs": [],
   "source": [
    "def plotContractions(df, xmax, title = \"\"):\n",
    "    '''.\n",
    "    parameters\n",
    "        df(pd.DataFrame) - Section of Lab\n",
    "        title(str) - Section of Lab\n",
    "    '''\n",
    "    plt.figure(figsize = (10,6))\n",
    "    plt.plot(df['Time (s)'], df['Transducer Output (mV)'], 'b-', linewidth=1)\n",
    "    #plt.xticks(np.arange(0, np.round(df['Time (s)'].max())) + 1)\n",
    "    plt.title(title)\n",
    "    plt.xlabel('Time (s)')\n",
    "    plt.ylabel('Transducer Output (mV)')\n",
    "    plt.xlim(xmin = 0, xmax = xmax)\n",
    "    plt.show()"
   ]
  },
  {
   "cell_type": "code",
   "execution_count": 5,
   "metadata": {},
   "outputs": [],
   "source": [
    "adjustTime(uterusFake)"
   ]
  },
  {
   "cell_type": "code",
   "execution_count": 6,
   "metadata": {},
   "outputs": [
    {
     "data": {
      "text/html": [
       "<div>\n",
       "<style scoped>\n",
       "    .dataframe tbody tr th:only-of-type {\n",
       "        vertical-align: middle;\n",
       "    }\n",
       "\n",
       "    .dataframe tbody tr th {\n",
       "        vertical-align: top;\n",
       "    }\n",
       "\n",
       "    .dataframe thead th {\n",
       "        text-align: right;\n",
       "    }\n",
       "</style>\n",
       "<table border=\"1\" class=\"dataframe\">\n",
       "  <thead>\n",
       "    <tr style=\"text-align: right;\">\n",
       "      <th></th>\n",
       "      <th>Time (s)</th>\n",
       "      <th>Page</th>\n",
       "      <th>Transducer Output (mV)</th>\n",
       "    </tr>\n",
       "  </thead>\n",
       "  <tbody>\n",
       "    <tr>\n",
       "      <td>0</td>\n",
       "      <td>0.00</td>\n",
       "      <td>1</td>\n",
       "      <td>-0.01450</td>\n",
       "    </tr>\n",
       "    <tr>\n",
       "      <td>1</td>\n",
       "      <td>0.05</td>\n",
       "      <td>1</td>\n",
       "      <td>-0.01400</td>\n",
       "    </tr>\n",
       "    <tr>\n",
       "      <td>2</td>\n",
       "      <td>0.10</td>\n",
       "      <td>1</td>\n",
       "      <td>-0.01375</td>\n",
       "    </tr>\n",
       "    <tr>\n",
       "      <td>3</td>\n",
       "      <td>0.15</td>\n",
       "      <td>1</td>\n",
       "      <td>-0.01400</td>\n",
       "    </tr>\n",
       "    <tr>\n",
       "      <td>4</td>\n",
       "      <td>0.20</td>\n",
       "      <td>1</td>\n",
       "      <td>-0.01425</td>\n",
       "    </tr>\n",
       "    <tr>\n",
       "      <td>...</td>\n",
       "      <td>...</td>\n",
       "      <td>...</td>\n",
       "      <td>...</td>\n",
       "    </tr>\n",
       "    <tr>\n",
       "      <td>20475</td>\n",
       "      <td>127.75</td>\n",
       "      <td>8</td>\n",
       "      <td>-0.00825</td>\n",
       "    </tr>\n",
       "    <tr>\n",
       "      <td>20476</td>\n",
       "      <td>127.80</td>\n",
       "      <td>8</td>\n",
       "      <td>-0.00800</td>\n",
       "    </tr>\n",
       "    <tr>\n",
       "      <td>20477</td>\n",
       "      <td>127.85</td>\n",
       "      <td>8</td>\n",
       "      <td>-0.00850</td>\n",
       "    </tr>\n",
       "    <tr>\n",
       "      <td>20478</td>\n",
       "      <td>127.90</td>\n",
       "      <td>8</td>\n",
       "      <td>-0.00875</td>\n",
       "    </tr>\n",
       "    <tr>\n",
       "      <td>20479</td>\n",
       "      <td>127.95</td>\n",
       "      <td>8</td>\n",
       "      <td>-0.00900</td>\n",
       "    </tr>\n",
       "  </tbody>\n",
       "</table>\n",
       "<p>20480 rows × 3 columns</p>\n",
       "</div>"
      ],
      "text/plain": [
       "       Time (s)  Page  Transducer Output (mV)\n",
       "0          0.00     1                -0.01450\n",
       "1          0.05     1                -0.01400\n",
       "2          0.10     1                -0.01375\n",
       "3          0.15     1                -0.01400\n",
       "4          0.20     1                -0.01425\n",
       "...         ...   ...                     ...\n",
       "20475    127.75     8                -0.00825\n",
       "20476    127.80     8                -0.00800\n",
       "20477    127.85     8                -0.00850\n",
       "20478    127.90     8                -0.00875\n",
       "20479    127.95     8                -0.00900\n",
       "\n",
       "[20480 rows x 3 columns]"
      ]
     },
     "execution_count": 6,
     "metadata": {},
     "output_type": "execute_result"
    }
   ],
   "source": [
    "uterusFake"
   ]
  },
  {
   "cell_type": "code",
   "execution_count": 7,
   "metadata": {},
   "outputs": [
    {
     "data": {
      "image/png": "[encoded data removed]",
      "text/plain": [
       "<Figure size 720x432 with 1 Axes>"
      ]
     },
     "metadata": {
      "needs_background": "light"
     },
     "output_type": "display_data"
    }
   ],
   "source": [
    "plotContractions(uterusFake, 120, \"Contraction\")"
   ]
  },
  {
   "cell_type": "code",
   "execution_count": 8,
   "metadata": {},
   "outputs": [
    {
     "data": {
      "text/plain": [
       "array([1, 2, 3, 4, 5, 6, 7, 8])"
      ]
     },
     "execution_count": 8,
     "metadata": {},
     "output_type": "execute_result"
    }
   ],
   "source": [
    "uterusFake['Page'].unique()"
   ]
  },
  {
   "cell_type": "code",
   "execution_count": 9,
   "metadata": {},
   "outputs": [],
   "source": [
    "pageOne = uterusFake[uterusFake['Page'] == 1]\n",
    "pageEight = uterusFake[uterusFake['Page'] == 8]"
   ]
  },
  {
   "cell_type": "code",
   "execution_count": 10,
   "metadata": {},
   "outputs": [
    {
     "data": {
      "text/plain": [
       "0         0.00\n",
       "1         0.05\n",
       "2         0.10\n",
       "3         0.15\n",
       "4         0.20\n",
       "         ...  \n",
       "2555    127.75\n",
       "2556    127.80\n",
       "2557    127.85\n",
       "2558    127.90\n",
       "2559    127.95\n",
       "Name: Time (s), Length: 2560, dtype: float64"
      ]
     },
     "execution_count": 10,
     "metadata": {},
     "output_type": "execute_result"
    }
   ],
   "source": [
    "pageOne['Time (s)']"
   ]
  },
  {
   "cell_type": "code",
   "execution_count": 11,
   "metadata": {},
   "outputs": [
    {
     "data": {
      "image/png": "[encoded data removed]",
      "text/plain": [
       "<Figure size 720x432 with 1 Axes>"
      ]
     },
     "metadata": {
      "needs_background": "light"
     },
     "output_type": "display_data"
    }
   ],
   "source": [
    "plotContractions(pageEight, 80)"
   ]
  },
  {
   "cell_type": "code",
   "execution_count": 12,
   "metadata": {},
   "outputs": [
    {
     "name": "stderr",
     "output_type": "stream",
     "text": [
      "/Users/adrienneterrado/opt/anaconda3/lib/python3.7/site-packages/pandas/core/frame.py:4102: SettingWithCopyWarning: \n",
      "A value is trying to be set on a copy of a slice from a DataFrame\n",
      "\n",
      "See the caveats in the documentation: http://pandas.pydata.org/pandas-docs/stable/user_guide/indexing.html#returning-a-view-versus-a-copy\n",
      "  errors=errors,\n"
     ]
    }
   ],
   "source": [
    "pageEight.drop(columns = 'Page', inplace = True)"
   ]
  },
  {
   "cell_type": "code",
   "execution_count": 13,
   "metadata": {},
   "outputs": [
    {
     "data": {
      "text/html": [
       "<div>\n",
       "<style scoped>\n",
       "    .dataframe tbody tr th:only-of-type {\n",
       "        vertical-align: middle;\n",
       "    }\n",
       "\n",
       "    .dataframe tbody tr th {\n",
       "        vertical-align: top;\n",
       "    }\n",
       "\n",
       "    .dataframe thead th {\n",
       "        text-align: right;\n",
       "    }\n",
       "</style>\n",
       "<table border=\"1\" class=\"dataframe\">\n",
       "  <thead>\n",
       "    <tr style=\"text-align: right;\">\n",
       "      <th></th>\n",
       "      <th>Time (s)</th>\n",
       "      <th>Transducer Output (mV)</th>\n",
       "    </tr>\n",
       "  </thead>\n",
       "  <tbody>\n",
       "    <tr>\n",
       "      <td>17920</td>\n",
       "      <td>0.00</td>\n",
       "      <td>-0.01425</td>\n",
       "    </tr>\n",
       "    <tr>\n",
       "      <td>17921</td>\n",
       "      <td>0.05</td>\n",
       "      <td>-0.01400</td>\n",
       "    </tr>\n",
       "    <tr>\n",
       "      <td>17922</td>\n",
       "      <td>0.10</td>\n",
       "      <td>-0.01425</td>\n",
       "    </tr>\n",
       "    <tr>\n",
       "      <td>17923</td>\n",
       "      <td>0.15</td>\n",
       "      <td>-0.01475</td>\n",
       "    </tr>\n",
       "    <tr>\n",
       "      <td>17924</td>\n",
       "      <td>0.20</td>\n",
       "      <td>-0.01475</td>\n",
       "    </tr>\n",
       "    <tr>\n",
       "      <td>...</td>\n",
       "      <td>...</td>\n",
       "      <td>...</td>\n",
       "    </tr>\n",
       "    <tr>\n",
       "      <td>20475</td>\n",
       "      <td>127.75</td>\n",
       "      <td>-0.00825</td>\n",
       "    </tr>\n",
       "    <tr>\n",
       "      <td>20476</td>\n",
       "      <td>127.80</td>\n",
       "      <td>-0.00800</td>\n",
       "    </tr>\n",
       "    <tr>\n",
       "      <td>20477</td>\n",
       "      <td>127.85</td>\n",
       "      <td>-0.00850</td>\n",
       "    </tr>\n",
       "    <tr>\n",
       "      <td>20478</td>\n",
       "      <td>127.90</td>\n",
       "      <td>-0.00875</td>\n",
       "    </tr>\n",
       "    <tr>\n",
       "      <td>20479</td>\n",
       "      <td>127.95</td>\n",
       "      <td>-0.00900</td>\n",
       "    </tr>\n",
       "  </tbody>\n",
       "</table>\n",
       "<p>2560 rows × 2 columns</p>\n",
       "</div>"
      ],
      "text/plain": [
       "       Time (s)  Transducer Output (mV)\n",
       "17920      0.00                -0.01425\n",
       "17921      0.05                -0.01400\n",
       "17922      0.10                -0.01425\n",
       "17923      0.15                -0.01475\n",
       "17924      0.20                -0.01475\n",
       "...         ...                     ...\n",
       "20475    127.75                -0.00825\n",
       "20476    127.80                -0.00800\n",
       "20477    127.85                -0.00850\n",
       "20478    127.90                -0.00875\n",
       "20479    127.95                -0.00900\n",
       "\n",
       "[2560 rows x 2 columns]"
      ]
     },
     "execution_count": 13,
     "metadata": {},
     "output_type": "execute_result"
    }
   ],
   "source": [
    "pageEight"
   ]
  },
  {
   "cell_type": "code",
   "execution_count": 14,
   "metadata": {},
   "outputs": [],
   "source": [
    "#from 130 to some number by 0.05 until I get 2560 samples"
   ]
  },
  {
   "cell_type": "code",
   "execution_count": 15,
   "metadata": {},
   "outputs": [
    {
     "data": {
      "text/plain": [
       "array([130.        , 130.04921844, 130.09843689, ..., 255.85156311,\n",
       "       255.90078156, 255.95      ])"
      ]
     },
     "execution_count": 15,
     "metadata": {},
     "output_type": "execute_result"
    }
   ],
   "source": [
    "addedTimesTwo = np.linspace(130, 255.95, num=2560)\n",
    "\n",
    "addedTimesTwo"
   ]
  },
  {
   "cell_type": "code",
   "execution_count": 16,
   "metadata": {},
   "outputs": [],
   "source": [
    "pageEightAdded = pageEight['Transducer Output (mV)']"
   ]
  },
  {
   "cell_type": "code",
   "execution_count": 17,
   "metadata": {},
   "outputs": [
    {
     "data": {
      "text/plain": [
       "2560"
      ]
     },
     "execution_count": 17,
     "metadata": {},
     "output_type": "execute_result"
    }
   ],
   "source": [
    "len(pageEightAdded)"
   ]
  },
  {
   "cell_type": "code",
   "execution_count": 18,
   "metadata": {},
   "outputs": [
    {
     "data": {
      "text/html": [
       "<div>\n",
       "<style scoped>\n",
       "    .dataframe tbody tr th:only-of-type {\n",
       "        vertical-align: middle;\n",
       "    }\n",
       "\n",
       "    .dataframe tbody tr th {\n",
       "        vertical-align: top;\n",
       "    }\n",
       "\n",
       "    .dataframe thead th {\n",
       "        text-align: right;\n",
       "    }\n",
       "</style>\n",
       "<table border=\"1\" class=\"dataframe\">\n",
       "  <thead>\n",
       "    <tr style=\"text-align: right;\">\n",
       "      <th></th>\n",
       "      <th>Time (s)</th>\n",
       "      <th>Transducer Output (mV)</th>\n",
       "    </tr>\n",
       "  </thead>\n",
       "  <tbody>\n",
       "    <tr>\n",
       "      <td>17920</td>\n",
       "      <td>130.000000</td>\n",
       "      <td>-0.01425</td>\n",
       "    </tr>\n",
       "    <tr>\n",
       "      <td>17921</td>\n",
       "      <td>130.049218</td>\n",
       "      <td>-0.01400</td>\n",
       "    </tr>\n",
       "    <tr>\n",
       "      <td>17922</td>\n",
       "      <td>130.098437</td>\n",
       "      <td>-0.01425</td>\n",
       "    </tr>\n",
       "    <tr>\n",
       "      <td>17923</td>\n",
       "      <td>130.147655</td>\n",
       "      <td>-0.01475</td>\n",
       "    </tr>\n",
       "    <tr>\n",
       "      <td>17924</td>\n",
       "      <td>130.196874</td>\n",
       "      <td>-0.01475</td>\n",
       "    </tr>\n",
       "    <tr>\n",
       "      <td>...</td>\n",
       "      <td>...</td>\n",
       "      <td>...</td>\n",
       "    </tr>\n",
       "    <tr>\n",
       "      <td>20475</td>\n",
       "      <td>255.753126</td>\n",
       "      <td>-0.00825</td>\n",
       "    </tr>\n",
       "    <tr>\n",
       "      <td>20476</td>\n",
       "      <td>255.802345</td>\n",
       "      <td>-0.00800</td>\n",
       "    </tr>\n",
       "    <tr>\n",
       "      <td>20477</td>\n",
       "      <td>255.851563</td>\n",
       "      <td>-0.00850</td>\n",
       "    </tr>\n",
       "    <tr>\n",
       "      <td>20478</td>\n",
       "      <td>255.900782</td>\n",
       "      <td>-0.00875</td>\n",
       "    </tr>\n",
       "    <tr>\n",
       "      <td>20479</td>\n",
       "      <td>255.950000</td>\n",
       "      <td>-0.00900</td>\n",
       "    </tr>\n",
       "  </tbody>\n",
       "</table>\n",
       "<p>2560 rows × 2 columns</p>\n",
       "</div>"
      ],
      "text/plain": [
       "         Time (s)  Transducer Output (mV)\n",
       "17920  130.000000                -0.01425\n",
       "17921  130.049218                -0.01400\n",
       "17922  130.098437                -0.01425\n",
       "17923  130.147655                -0.01475\n",
       "17924  130.196874                -0.01475\n",
       "...           ...                     ...\n",
       "20475  255.753126                -0.00825\n",
       "20476  255.802345                -0.00800\n",
       "20477  255.851563                -0.00850\n",
       "20478  255.900782                -0.00875\n",
       "20479  255.950000                -0.00900\n",
       "\n",
       "[2560 rows x 2 columns]"
      ]
     },
     "execution_count": 18,
     "metadata": {},
     "output_type": "execute_result"
    }
   ],
   "source": [
    "EightDouble = {'Time (s)': addedTimesTwo, \n",
    "         'Transducer Output (mV)': pageEightAdded}\n",
    "dfEightDouble = pd.DataFrame(data = EightDouble)\n",
    "dfEightDouble"
   ]
  },
  {
   "cell_type": "code",
   "execution_count": 19,
   "metadata": {},
   "outputs": [],
   "source": [
    "secondContraction = pd.concat([pageEight, dfEightDouble])"
   ]
  },
  {
   "cell_type": "code",
   "execution_count": 20,
   "metadata": {},
   "outputs": [
    {
     "data": {
      "text/html": [
       "<div>\n",
       "<style scoped>\n",
       "    .dataframe tbody tr th:only-of-type {\n",
       "        vertical-align: middle;\n",
       "    }\n",
       "\n",
       "    .dataframe tbody tr th {\n",
       "        vertical-align: top;\n",
       "    }\n",
       "\n",
       "    .dataframe thead th {\n",
       "        text-align: right;\n",
       "    }\n",
       "</style>\n",
       "<table border=\"1\" class=\"dataframe\">\n",
       "  <thead>\n",
       "    <tr style=\"text-align: right;\">\n",
       "      <th></th>\n",
       "      <th>Time (s)</th>\n",
       "      <th>Transducer Output (mV)</th>\n",
       "    </tr>\n",
       "  </thead>\n",
       "  <tbody>\n",
       "    <tr>\n",
       "      <td>count</td>\n",
       "      <td>5120.000000</td>\n",
       "      <td>5120.000000</td>\n",
       "    </tr>\n",
       "    <tr>\n",
       "      <td>mean</td>\n",
       "      <td>128.475000</td>\n",
       "      <td>0.014296</td>\n",
       "    </tr>\n",
       "    <tr>\n",
       "      <td>std</td>\n",
       "      <td>74.198946</td>\n",
       "      <td>0.029430</td>\n",
       "    </tr>\n",
       "    <tr>\n",
       "      <td>min</td>\n",
       "      <td>0.000000</td>\n",
       "      <td>-0.015500</td>\n",
       "    </tr>\n",
       "    <tr>\n",
       "      <td>25%</td>\n",
       "      <td>63.987500</td>\n",
       "      <td>-0.007000</td>\n",
       "    </tr>\n",
       "    <tr>\n",
       "      <td>50%</td>\n",
       "      <td>128.975000</td>\n",
       "      <td>-0.004250</td>\n",
       "    </tr>\n",
       "    <tr>\n",
       "      <td>75%</td>\n",
       "      <td>192.962695</td>\n",
       "      <td>0.036562</td>\n",
       "    </tr>\n",
       "    <tr>\n",
       "      <td>max</td>\n",
       "      <td>255.950000</td>\n",
       "      <td>0.076750</td>\n",
       "    </tr>\n",
       "  </tbody>\n",
       "</table>\n",
       "</div>"
      ],
      "text/plain": [
       "          Time (s)  Transducer Output (mV)\n",
       "count  5120.000000             5120.000000\n",
       "mean    128.475000                0.014296\n",
       "std      74.198946                0.029430\n",
       "min       0.000000               -0.015500\n",
       "25%      63.987500               -0.007000\n",
       "50%     128.975000               -0.004250\n",
       "75%     192.962695                0.036562\n",
       "max     255.950000                0.076750"
      ]
     },
     "execution_count": 20,
     "metadata": {},
     "output_type": "execute_result"
    }
   ],
   "source": [
    "secondContraction.describe()"
   ]
  },
  {
   "cell_type": "code",
   "execution_count": 21,
   "metadata": {},
   "outputs": [
    {
     "data": {
      "image/png": "[encoded data removed]",
      "text/plain": [
       "<Figure size 720x432 with 1 Axes>"
      ]
     },
     "metadata": {
      "needs_background": "light"
     },
     "output_type": "display_data"
    }
   ],
   "source": [
    "plotContractions(secondContraction, 300, \"Uh\")"
   ]
  },
  {
   "cell_type": "code",
   "execution_count": 22,
   "metadata": {},
   "outputs": [
    {
     "data": {
      "text/html": [
       "<div>\n",
       "<style scoped>\n",
       "    .dataframe tbody tr th:only-of-type {\n",
       "        vertical-align: middle;\n",
       "    }\n",
       "\n",
       "    .dataframe tbody tr th {\n",
       "        vertical-align: top;\n",
       "    }\n",
       "\n",
       "    .dataframe thead th {\n",
       "        text-align: right;\n",
       "    }\n",
       "</style>\n",
       "<table border=\"1\" class=\"dataframe\">\n",
       "  <thead>\n",
       "    <tr style=\"text-align: right;\">\n",
       "      <th></th>\n",
       "      <th>Time (s)</th>\n",
       "      <th>Transducer Output (mV)</th>\n",
       "    </tr>\n",
       "  </thead>\n",
       "  <tbody>\n",
       "    <tr>\n",
       "      <td>17920</td>\n",
       "      <td>0.000000</td>\n",
       "      <td>-0.01425</td>\n",
       "    </tr>\n",
       "    <tr>\n",
       "      <td>17921</td>\n",
       "      <td>0.050000</td>\n",
       "      <td>-0.01400</td>\n",
       "    </tr>\n",
       "    <tr>\n",
       "      <td>17922</td>\n",
       "      <td>0.100000</td>\n",
       "      <td>-0.01425</td>\n",
       "    </tr>\n",
       "    <tr>\n",
       "      <td>17923</td>\n",
       "      <td>0.150000</td>\n",
       "      <td>-0.01475</td>\n",
       "    </tr>\n",
       "    <tr>\n",
       "      <td>17924</td>\n",
       "      <td>0.200000</td>\n",
       "      <td>-0.01475</td>\n",
       "    </tr>\n",
       "    <tr>\n",
       "      <td>...</td>\n",
       "      <td>...</td>\n",
       "      <td>...</td>\n",
       "    </tr>\n",
       "    <tr>\n",
       "      <td>20475</td>\n",
       "      <td>255.753126</td>\n",
       "      <td>-0.00825</td>\n",
       "    </tr>\n",
       "    <tr>\n",
       "      <td>20476</td>\n",
       "      <td>255.802345</td>\n",
       "      <td>-0.00800</td>\n",
       "    </tr>\n",
       "    <tr>\n",
       "      <td>20477</td>\n",
       "      <td>255.851563</td>\n",
       "      <td>-0.00850</td>\n",
       "    </tr>\n",
       "    <tr>\n",
       "      <td>20478</td>\n",
       "      <td>255.900782</td>\n",
       "      <td>-0.00875</td>\n",
       "    </tr>\n",
       "    <tr>\n",
       "      <td>20479</td>\n",
       "      <td>255.950000</td>\n",
       "      <td>-0.00900</td>\n",
       "    </tr>\n",
       "  </tbody>\n",
       "</table>\n",
       "<p>5120 rows × 2 columns</p>\n",
       "</div>"
      ],
      "text/plain": [
       "         Time (s)  Transducer Output (mV)\n",
       "17920    0.000000                -0.01425\n",
       "17921    0.050000                -0.01400\n",
       "17922    0.100000                -0.01425\n",
       "17923    0.150000                -0.01475\n",
       "17924    0.200000                -0.01475\n",
       "...           ...                     ...\n",
       "20475  255.753126                -0.00825\n",
       "20476  255.802345                -0.00800\n",
       "20477  255.851563                -0.00850\n",
       "20478  255.900782                -0.00875\n",
       "20479  255.950000                -0.00900\n",
       "\n",
       "[5120 rows x 2 columns]"
      ]
     },
     "execution_count": 22,
     "metadata": {},
     "output_type": "execute_result"
    }
   ],
   "source": [
    "secondContraction"
   ]
  },
  {
   "cell_type": "code",
   "execution_count": 32,
   "metadata": {},
   "outputs": [
    {
     "data": {
      "text/plain": [
       "array([260.        , 260.04921844, 260.09843689, ..., 385.85156311,\n",
       "       385.90078156, 385.95      ])"
      ]
     },
     "execution_count": 32,
     "metadata": {},
     "output_type": "execute_result"
    }
   ],
   "source": [
    "addedTimesThree = np.linspace(260, 385.95, num=2560)\n",
    "addedTimesThree"
   ]
  },
  {
   "cell_type": "code",
   "execution_count": 33,
   "metadata": {},
   "outputs": [
    {
     "data": {
      "text/html": [
       "<div>\n",
       "<style scoped>\n",
       "    .dataframe tbody tr th:only-of-type {\n",
       "        vertical-align: middle;\n",
       "    }\n",
       "\n",
       "    .dataframe tbody tr th {\n",
       "        vertical-align: top;\n",
       "    }\n",
       "\n",
       "    .dataframe thead th {\n",
       "        text-align: right;\n",
       "    }\n",
       "</style>\n",
       "<table border=\"1\" class=\"dataframe\">\n",
       "  <thead>\n",
       "    <tr style=\"text-align: right;\">\n",
       "      <th></th>\n",
       "      <th>Time (s)</th>\n",
       "      <th>Transducer Output (mV)</th>\n",
       "    </tr>\n",
       "  </thead>\n",
       "  <tbody>\n",
       "    <tr>\n",
       "      <td>17920</td>\n",
       "      <td>260.000000</td>\n",
       "      <td>-0.01425</td>\n",
       "    </tr>\n",
       "    <tr>\n",
       "      <td>17921</td>\n",
       "      <td>260.049218</td>\n",
       "      <td>-0.01400</td>\n",
       "    </tr>\n",
       "    <tr>\n",
       "      <td>17922</td>\n",
       "      <td>260.098437</td>\n",
       "      <td>-0.01425</td>\n",
       "    </tr>\n",
       "    <tr>\n",
       "      <td>17923</td>\n",
       "      <td>260.147655</td>\n",
       "      <td>-0.01475</td>\n",
       "    </tr>\n",
       "    <tr>\n",
       "      <td>17924</td>\n",
       "      <td>260.196874</td>\n",
       "      <td>-0.01475</td>\n",
       "    </tr>\n",
       "    <tr>\n",
       "      <td>...</td>\n",
       "      <td>...</td>\n",
       "      <td>...</td>\n",
       "    </tr>\n",
       "    <tr>\n",
       "      <td>20475</td>\n",
       "      <td>385.753126</td>\n",
       "      <td>-0.00825</td>\n",
       "    </tr>\n",
       "    <tr>\n",
       "      <td>20476</td>\n",
       "      <td>385.802345</td>\n",
       "      <td>-0.00800</td>\n",
       "    </tr>\n",
       "    <tr>\n",
       "      <td>20477</td>\n",
       "      <td>385.851563</td>\n",
       "      <td>-0.00850</td>\n",
       "    </tr>\n",
       "    <tr>\n",
       "      <td>20478</td>\n",
       "      <td>385.900782</td>\n",
       "      <td>-0.00875</td>\n",
       "    </tr>\n",
       "    <tr>\n",
       "      <td>20479</td>\n",
       "      <td>385.950000</td>\n",
       "      <td>-0.00900</td>\n",
       "    </tr>\n",
       "  </tbody>\n",
       "</table>\n",
       "<p>2560 rows × 2 columns</p>\n",
       "</div>"
      ],
      "text/plain": [
       "         Time (s)  Transducer Output (mV)\n",
       "17920  260.000000                -0.01425\n",
       "17921  260.049218                -0.01400\n",
       "17922  260.098437                -0.01425\n",
       "17923  260.147655                -0.01475\n",
       "17924  260.196874                -0.01475\n",
       "...           ...                     ...\n",
       "20475  385.753126                -0.00825\n",
       "20476  385.802345                -0.00800\n",
       "20477  385.851563                -0.00850\n",
       "20478  385.900782                -0.00875\n",
       "20479  385.950000                -0.00900\n",
       "\n",
       "[2560 rows x 2 columns]"
      ]
     },
     "execution_count": 33,
     "metadata": {},
     "output_type": "execute_result"
    }
   ],
   "source": [
    "EightTriple = {'Time (s)': addedTimesThree, \n",
    "         'Transducer Output (mV)': pageEightAdded}\n",
    "dfEightTriple = pd.DataFrame(data = EightTriple)\n",
    "dfEightTriple"
   ]
  },
  {
   "cell_type": "code",
   "execution_count": 34,
   "metadata": {},
   "outputs": [],
   "source": [
    "thirdContraction = pd.concat([secondContraction, dfEightTriple])"
   ]
  },
  {
   "cell_type": "code",
   "execution_count": 35,
   "metadata": {},
   "outputs": [
    {
     "data": {
      "image/png": "[encoded data removed]",
      "text/plain": [
       "<Figure size 720x432 with 1 Axes>"
      ]
     },
     "metadata": {
      "needs_background": "light"
     },
     "output_type": "display_data"
    }
   ],
   "source": [
    "plotContractions(thirdContraction, 420, \"Control\")"
   ]
  },
  {
   "cell_type": "code",
   "execution_count": 27,
   "metadata": {},
   "outputs": [
    {
     "data": {
      "text/html": [
       "<div>\n",
       "<style scoped>\n",
       "    .dataframe tbody tr th:only-of-type {\n",
       "        vertical-align: middle;\n",
       "    }\n",
       "\n",
       "    .dataframe tbody tr th {\n",
       "        vertical-align: top;\n",
       "    }\n",
       "\n",
       "    .dataframe thead th {\n",
       "        text-align: right;\n",
       "    }\n",
       "</style>\n",
       "<table border=\"1\" class=\"dataframe\">\n",
       "  <thead>\n",
       "    <tr style=\"text-align: right;\">\n",
       "      <th></th>\n",
       "      <th>Time (s)</th>\n",
       "      <th>Transducer Output (mV)</th>\n",
       "    </tr>\n",
       "  </thead>\n",
       "  <tbody>\n",
       "    <tr>\n",
       "      <td>17920</td>\n",
       "      <td>0.000000</td>\n",
       "      <td>-0.01425</td>\n",
       "    </tr>\n",
       "    <tr>\n",
       "      <td>17921</td>\n",
       "      <td>0.050000</td>\n",
       "      <td>-0.01400</td>\n",
       "    </tr>\n",
       "    <tr>\n",
       "      <td>17922</td>\n",
       "      <td>0.100000</td>\n",
       "      <td>-0.01425</td>\n",
       "    </tr>\n",
       "    <tr>\n",
       "      <td>17923</td>\n",
       "      <td>0.150000</td>\n",
       "      <td>-0.01475</td>\n",
       "    </tr>\n",
       "    <tr>\n",
       "      <td>17924</td>\n",
       "      <td>0.200000</td>\n",
       "      <td>-0.01475</td>\n",
       "    </tr>\n",
       "    <tr>\n",
       "      <td>...</td>\n",
       "      <td>...</td>\n",
       "      <td>...</td>\n",
       "    </tr>\n",
       "    <tr>\n",
       "      <td>20475</td>\n",
       "      <td>255.753126</td>\n",
       "      <td>-0.00825</td>\n",
       "    </tr>\n",
       "    <tr>\n",
       "      <td>20476</td>\n",
       "      <td>255.802345</td>\n",
       "      <td>-0.00800</td>\n",
       "    </tr>\n",
       "    <tr>\n",
       "      <td>20477</td>\n",
       "      <td>255.851563</td>\n",
       "      <td>-0.00850</td>\n",
       "    </tr>\n",
       "    <tr>\n",
       "      <td>20478</td>\n",
       "      <td>255.900782</td>\n",
       "      <td>-0.00875</td>\n",
       "    </tr>\n",
       "    <tr>\n",
       "      <td>20479</td>\n",
       "      <td>255.950000</td>\n",
       "      <td>-0.00900</td>\n",
       "    </tr>\n",
       "  </tbody>\n",
       "</table>\n",
       "<p>7680 rows × 2 columns</p>\n",
       "</div>"
      ],
      "text/plain": [
       "         Time (s)  Transducer Output (mV)\n",
       "17920    0.000000                -0.01425\n",
       "17921    0.050000                -0.01400\n",
       "17922    0.100000                -0.01425\n",
       "17923    0.150000                -0.01475\n",
       "17924    0.200000                -0.01475\n",
       "...           ...                     ...\n",
       "20475  255.753126                -0.00825\n",
       "20476  255.802345                -0.00800\n",
       "20477  255.851563                -0.00850\n",
       "20478  255.900782                -0.00875\n",
       "20479  255.950000                -0.00900\n",
       "\n",
       "[7680 rows x 2 columns]"
      ]
     },
     "execution_count": 27,
     "metadata": {},
     "output_type": "execute_result"
    }
   ],
   "source": [
    "thirdContraction"
   ]
  },
  {
   "cell_type": "code",
   "execution_count": null,
   "metadata": {},
   "outputs": [],
   "source": []
  }
 ],
 "metadata": {
  "kernelspec": {
   "display_name": "Python 3",
   "language": "python",
   "name": "python3"
  },
  "language_info": {
   "codemirror_mode": {
    "name": "ipython",
    "version": 3
   },
   "file_extension": ".py",
   "mimetype": "text/x-python",
   "name": "python",
   "nbconvert_exporter": "python",
   "pygments_lexer": "ipython3",
   "version": "3.7.4"
  }
 },
 "nbformat": 4,
 "nbformat_minor": 2
}
